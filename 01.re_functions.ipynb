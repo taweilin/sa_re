{
 "cells": [
  {
   "cell_type": "markdown",
   "id": "f93c5244-7ce3-4763-9d97-3def714893b5",
   "metadata": {},
   "source": [
    "# 「正規表示式」Regualr expression"
   ]
  },
  {
   "cell_type": "markdown",
   "id": "934de841-ccd8-43d1-ba1d-46e11f4922c3",
   "metadata": {
    "jp-MarkdownHeadingCollapsed": true,
    "tags": []
   },
   "source": [
    "## 常用函數\n",
    "\n",
    "| 函數 | 說明                                                       |\n",
    "|----------|-------------------------------------------------------------------|\n",
    "| findall()  | 回傳所有匹配結果的串列(list)                             |\n",
    "| search()   | 回傳第一個匹配結果的字串(string) |\n",
    "| split()    | 回傳一個串列(list)，其中字串在每次匹配時都被拆分為一個元素(element)      |\n",
    "| sub()      | 替代符合匹配的每個字元                       |"
   ]
  },
  {
   "cell_type": "markdown",
   "id": "2bb917eb-3a50-4dee-8eb1-25e1b75a58dd",
   "metadata": {
    "tags": []
   },
   "source": [
    "## 匯入re 模組"
   ]
  },
  {
   "cell_type": "code",
   "execution_count": 1,
   "id": "b521173c-eafe-422f-9e7a-eeb00d91d98e",
   "metadata": {},
   "outputs": [],
   "source": [
    "import re\n",
    "sent = 'Please call David at 02-8888-1688 by today. 02-9888-9898 is his office number.'"
   ]
  },
  {
   "cell_type": "markdown",
   "id": "fb611ac3-2bf7-487c-96cb-7a94ad6efd7a",
   "metadata": {
    "jp-MarkdownHeadingCollapsed": true,
    "tags": []
   },
   "source": [
    "## 建立 Regex 物件\n",
    "* 要使用 re 模組中的 compile()函式\n",
    "* 比對資料可以使用 search() 或 findall() 方法\n",
    "* <span style=\"color:red\">需要的格式前面加上 r ，代表原始字串 raw</span>"
   ]
  },
  {
   "cell_type": "markdown",
   "id": "1c10309d-8192-4fe3-ba0b-c51d8dbfbf40",
   "metadata": {},
   "source": [
    "## findall()\n",
    "\n",
    "* 把所有符合的資料都找出來"
   ]
  },
  {
   "cell_type": "code",
   "execution_count": 2,
   "id": "2939723f-cf22-415e-a9b6-ebb6fde16b90",
   "metadata": {},
   "outputs": [
    {
     "data": {
      "text/plain": [
       "['02-8888-1688', '02-9888-9898']"
      ]
     },
     "execution_count": 2,
     "metadata": {},
     "output_type": "execute_result"
    }
   ],
   "source": [
    "phoneNumRegex = re.compile(r'\\d\\d-\\d\\d\\d\\d-\\d\\d\\d\\d')\n",
    "\n",
    "result = phoneNumRegex.findall(sent)\n",
    "result"
   ]
  },
  {
   "cell_type": "code",
   "execution_count": 3,
   "id": "022ea72a-398c-426f-b02f-c3d03d147f83",
   "metadata": {},
   "outputs": [
    {
     "name": "stdout",
     "output_type": "stream",
     "text": [
      "[('02', '8888', '1688'), ('02', '9888', '9898')]\n",
      "('02', '8888', '1688')\n",
      "8888\n"
     ]
    }
   ],
   "source": [
    "# 利用()分群\n",
    "phoneNumRegex = re.compile(r'(\\d\\d)-(\\d\\d\\d\\d)-(\\d\\d\\d\\d)')\n",
    "result = phoneNumRegex.findall(sent)\n",
    "print(result)\n",
    "print(result[0])\n",
    "print(result[0][1])"
   ]
  },
  {
   "cell_type": "code",
   "execution_count": 4,
   "id": "1d07cb3c-df46-4faf-b0a8-cd6c3ec86619",
   "metadata": {},
   "outputs": [
    {
     "name": "stdout",
     "output_type": "stream",
     "text": [
      "輸出：    [('02-8888-1688', '02', '8888', '1688'), ('02-9888-9898', '02', '9888', '9898')]\n",
      "取得第一個元素：     ('02-8888-1688', '02', '8888', '1688')\n",
      "取得元素中的次元素：  02\n"
     ]
    }
   ],
   "source": [
    "# 比對的成果可以有完整電話號碼，可以在規則的最外層再加上括號\n",
    "phoneNumRegex = re.compile(r'((\\d\\d)-(\\d\\d\\d\\d)-(\\d\\d\\d\\d))')\n",
    "result = phoneNumRegex.findall(sent)\n",
    "print('輸出：   ',result)\n",
    "print('取得第一個元素：    ',result[0])\n",
    "print('取得元素中的次元素： ',result[0][1])"
   ]
  },
  {
   "cell_type": "markdown",
   "id": "7a349bd4-d433-4680-b91a-838fcbc53e99",
   "metadata": {},
   "source": [
    "## search()\n",
    "* 只會找出符合規則的第一筆資料\n",
    "* 方法：\n",
    "    * .span() 返回一個包含匹配開始和結束位置的元組。\n",
    "    * .string 返回傳遞給函數的字符串\n",
    "    * .group() 返回字符串中匹配的部分"
   ]
  },
  {
   "cell_type": "code",
   "execution_count": 5,
   "id": "93a3e11c-14cf-4185-8bdd-743c579f88b8",
   "metadata": {},
   "outputs": [
    {
     "name": "stdout",
     "output_type": "stream",
     "text": [
      "輸出：         <re.Match object; span=(21, 33), match='02-8888-1688'>\n",
      "預設group為0： 02-8888-1688\n",
      "group(0)：    02-8888-1688\n",
      "group(1)：    02-8888-1688\n",
      "group(2)：    02\n",
      "group(3)：    8888\n"
     ]
    }
   ],
   "source": [
    "result = phoneNumRegex.search(sent)\n",
    "print('輸出：        ',result)\n",
    "print('預設group為0：', result.group())\n",
    "\n",
    "# 使用group取出資料\n",
    "print('group(0)：   ',result.group(0))\n",
    "print('group(1)：   ',result.group(1))\n",
    "print('group(2)：   ',result.group(2))\n",
    "print('group(3)：   ',result.group(3))\n",
    "#print('超過索引範圍：錯誤訊息 no such group',result.group(4))"
   ]
  },
  {
   "cell_type": "code",
   "execution_count": 6,
   "id": "9a8ed6db-a674-4c1a-9912-969d5f8f9884",
   "metadata": {},
   "outputs": [
    {
     "name": "stdout",
     "output_type": "stream",
     "text": [
      "輸出：     <re.Match object; span=(21, 33), match='02-8888-1688'>\n",
      "group(0)： 02-8888-1688\n",
      "group(3)： 1688\n",
      "span()：   (21, 33)\n",
      "srting：   Please call David at 02-8888-1688 by today. 02-9888-9898 is his office number.\n"
     ]
    }
   ],
   "source": [
    "phoneNumRegex = re.compile(r'(\\d\\d)-(\\d\\d\\d\\d)-(\\d\\d\\d\\d)')\n",
    "mo = phoneNumRegex.search(sent)\n",
    "print('輸出：    ',mo)\n",
    "print('group(0)：',mo.group(0))\n",
    "print('group(3)：',mo.group(3))\n",
    "print('span()：  ', mo.span())\n",
    "print('srting：  ', mo.string)"
   ]
  },
  {
   "cell_type": "markdown",
   "id": "0e81e5ec-07f6-48f9-ab9f-987a89eeea08",
   "metadata": {},
   "source": [
    "## findall()與search()的差異：\n",
    "\n",
    "| 差異項目 |                      findall()                      |          search()          |\n",
    "|:--------:|:--------------------------------------------------:|:----------------------------:|\n",
    "|    回傳數量    | 所有符合值 | 第一個符合值 |\n",
    "|    回傳值    | 串列（list），串列內的項目是字串（string）| 字串（string） |\n",
    "|    無資料回傳值    |      空的串列 []      | None            |\n",
    "|    回傳值處理    | 以list方式處理    | 可用span()、group()、string |"
   ]
  },
  {
   "cell_type": "markdown",
   "id": "ec1569ed-3108-4cd9-a2b7-26e4fd96604a",
   "metadata": {},
   "source": [
    "## sub()\n",
    "* 替換成想要的字元"
   ]
  },
  {
   "cell_type": "code",
   "execution_count": 7,
   "id": "1e466321-ff86-469d-9c33-9a0d0112d222",
   "metadata": {},
   "outputs": [
    {
     "name": "stdout",
     "output_type": "stream",
     "text": [
      "The9rain9in9Spain\n"
     ]
    }
   ],
   "source": [
    "# 用數字 9 替換每個空白字符\n",
    "txt = \"The rain in Spain\"\n",
    "x = re.sub(r\"\\s\", \"9\", txt)\n",
    "print(x)"
   ]
  },
  {
   "cell_type": "code",
   "execution_count": 8,
   "id": "27f545de-11d5-44dc-8c4f-4b40d795f722",
   "metadata": {},
   "outputs": [
    {
     "name": "stdout",
     "output_type": "stream",
     "text": [
      "The9rain9in Spain\n"
     ]
    }
   ],
   "source": [
    "# 替換前 2 次出現\n",
    "txt = \"The rain in Spain\"\n",
    "x = re.sub(r\"\\s\", \"9\", txt, 2)\n",
    "print(x)"
   ]
  },
  {
   "cell_type": "markdown",
   "id": "b4bf943f-444d-41c4-bcba-f7996be65510",
   "metadata": {},
   "source": [
    "## split()\n",
    "* 將匹配的字符進行切割，並且回傳一組串列"
   ]
  },
  {
   "cell_type": "code",
   "execution_count": 9,
   "id": "20fc7547-44cb-467e-997d-4dc5e5419082",
   "metadata": {},
   "outputs": [
    {
     "name": "stdout",
     "output_type": "stream",
     "text": [
      "['The', 'rain', 'in', 'Spain']\n"
     ]
    }
   ],
   "source": [
    "# 在每個空白字符處拆分\n",
    "txt = \"The rain in Spain\"\n",
    "x = re.split(r\"\\s\", txt)\n",
    "print(x)"
   ]
  },
  {
   "cell_type": "markdown",
   "id": "de4eaa71-a33d-48bf-8f19-30991e508a4a",
   "metadata": {},
   "source": [
    "# 是否需要compile\n",
    "* compile 非必要"
   ]
  },
  {
   "cell_type": "code",
   "execution_count": 10,
   "id": "4e641662-e806-4843-a371-e163a7219e6d",
   "metadata": {},
   "outputs": [
    {
     "name": "stdout",
     "output_type": "stream",
     "text": [
      "The9rain9in9Spain\n"
     ]
    }
   ],
   "source": [
    "txt = \"The rain in Spain\"\n",
    "x = re.sub(r\"\\s\", \"9\", txt)\n",
    "print(x)"
   ]
  },
  {
   "cell_type": "code",
   "execution_count": 11,
   "id": "0ee4beb3-1fbc-4a15-bf7c-aaad90aebea8",
   "metadata": {},
   "outputs": [
    {
     "name": "stdout",
     "output_type": "stream",
     "text": [
      "The9rain9in9Spain\n"
     ]
    }
   ],
   "source": [
    "txt = \"The rain in Spain\"\n",
    "com = re.compile(r'\\s')\n",
    "x = com.sub(\"9\", txt)\n",
    "print(x)"
   ]
  },
  {
   "cell_type": "code",
   "execution_count": 12,
   "id": "f23c1b95-b4cc-4b71-a4b0-b49a07568e78",
   "metadata": {},
   "outputs": [
    {
     "name": "stdout",
     "output_type": "stream",
     "text": [
      "The9rain9in9Spain\n"
     ]
    }
   ],
   "source": [
    "txt = \"The rain in Spain\"\n",
    "com = r'\\s'\n",
    "x = re.sub(com, \"9\", txt)\n",
    "print(x)"
   ]
  }
 ],
 "metadata": {
  "kernelspec": {
   "display_name": "Python 3 (ipykernel)",
   "language": "python",
   "name": "python3"
  },
  "language_info": {
   "codemirror_mode": {
    "name": "ipython",
    "version": 3
   },
   "file_extension": ".py",
   "mimetype": "text/x-python",
   "name": "python",
   "nbconvert_exporter": "python",
   "pygments_lexer": "ipython3",
   "version": "3.8.12"
  },
  "toc-autonumbering": false,
  "toc-showtags": false
 },
 "nbformat": 4,
 "nbformat_minor": 5
}
