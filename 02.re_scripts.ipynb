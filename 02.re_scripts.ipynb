{
 "cells": [
  {
   "cell_type": "code",
   "execution_count": 1,
   "id": "3d0ba909-1669-48b4-b930-a8f0fe82628b",
   "metadata": {},
   "outputs": [
    {
     "data": {
      "text/html": [
       "<!-- 表格置中 -->\n",
       "<style>table {float:left}</style>\n"
      ],
      "text/plain": [
       "<IPython.core.display.HTML object>"
      ]
     },
     "metadata": {},
     "output_type": "display_data"
    }
   ],
   "source": [
    "%%html\n",
    "<!-- 表格置中 -->\n",
    "<style>table {float:left}</style>"
   ]
  },
  {
   "cell_type": "markdown",
   "id": "6d515edc-2c4d-42d4-8c8f-bbb1edd5a983",
   "metadata": {
    "tags": []
   },
   "source": [
    "## 常見的字元分類\n",
    "| 分類符號 |                      規則含義                      |          符合的例子          |\n",
    "|:--------:|:--------------------------------------------------|:----------------------------|\n",
    "|    \\d    | 從0到9的數字                                       | 123                          |\n",
    "|    \\w    | 任何的字母、數字及底線符號_                        | yes123_或YES123_             |\n",
    "|    \\s    | 空白字元，包括空格、定位符號空格(tab)、換行符號    | 空白鍵、tab鍵、CRLF(windows) *附註|\n",
    "|    \\D    | \\d規則以外的字元。即除了數字以外的字元             | abc或ABC                     |\n",
    "|    \\W    | \\w規則以外的字元。即除了數字、字母、底線以外的字元 | ，或 -                       |\n",
    "|    \\S    | \\s規則以外的字元。即除了\\d空白字元以外的字元       | 123或yes123_或，             |"
   ]
  },
  {
   "cell_type": "markdown",
   "id": "df43a7c8-29aa-408d-897b-e9aaad73a65b",
   "metadata": {},
   "source": [
    "* CR是carriage return的意思，也就是\\r\n",
    "* LF是line feed的意思，也就是\\n"
   ]
  },
  {
   "cell_type": "markdown",
   "id": "05310a98-cec5-4033-b0a2-9ea3c3731fff",
   "metadata": {},
   "source": [
    "### 時間格式處理"
   ]
  },
  {
   "cell_type": "code",
   "execution_count": 2,
   "id": "349249a9-eec0-45d2-9f1a-27c04aa3b2c2",
   "metadata": {},
   "outputs": [],
   "source": [
    "import re\n",
    "# 本例有9個日期格式\n",
    "txt = '1.董事會、股東會決議或公司決定日期:壹零捌/柒/拾伍 \\\n",
    "       2.除權、息類別（請填入「除權」、「除息」或「除權息」）:除權息 \\\n",
    "       3.發放股利種類及金額: (1)普通股現金股利新台幣13,644,048,010元及股票股利2,728,809,600元。 (2)特別股股息新台幣350,000,000元。 \\\n",
    "       4.除權（息）交易日:109/08/12 \\\n",
    "       5.最後過戶日:109/08/13 \\\n",
    "       6.停止過戶起始日期:109/08/14 \\\n",
    "       7.停止過戶截止日期:109/08/18 \\\n",
    "       8.除權（息）基準日:109/08/18 \\\n",
    "       9.其他應敘明事項: (1)現金股利發放日：109/09/16 \\\n",
    "                        (2)107年度第一次海外無擔保可轉換公司債停止轉換期間：109/07/24至109/08/18。'"
   ]
  },
  {
   "cell_type": "code",
   "execution_count": 3,
   "id": "b5685358-9111-460d-a994-eea687362c75",
   "metadata": {},
   "outputs": [
    {
     "data": {
      "text/plain": [
       "['109/08/12',\n",
       " '109/08/13',\n",
       " '109/08/14',\n",
       " '109/08/18',\n",
       " '109/08/18',\n",
       " '109/09/16',\n",
       " '109/07/24',\n",
       " '109/08/18']"
      ]
     },
     "execution_count": 3,
     "metadata": {},
     "output_type": "execute_result"
    }
   ],
   "source": [
    "x = re.findall(\"\\d\\d\\d/\\d\\d/\\d\\d\", txt)\n",
    "x"
   ]
  },
  {
   "cell_type": "markdown",
   "id": "2e9e57c0-f652-4732-aeaf-c8ab74b138a8",
   "metadata": {},
   "source": [
    "|||  \n",
    "|-|-|  \n",
    "| \\d | 從0到9的數字 |"
   ]
  },
  {
   "cell_type": "code",
   "execution_count": 4,
   "id": "423f2927-d729-42a2-b11b-ede199766f88",
   "metadata": {},
   "outputs": [
    {
     "data": {
      "text/plain": [
       "['109/08/12',\n",
       " '109/08/13',\n",
       " '109/08/14',\n",
       " '109/08/18',\n",
       " '109/08/18',\n",
       " '109/09/16',\n",
       " '109/07/24',\n",
       " '109/08/18']"
      ]
     },
     "execution_count": 4,
     "metadata": {},
     "output_type": "execute_result"
    }
   ],
   "source": [
    "x = re.findall(\"\\d+/\\d+/\\d+\", txt)\n",
    "x"
   ]
  },
  {
   "cell_type": "markdown",
   "id": "91d37a07-3c51-4446-867e-985015ec08a9",
   "metadata": {},
   "source": [
    "|||  \n",
    "|-|-|  \n",
    "|\\+ |比對符合1次或多次|"
   ]
  },
  {
   "cell_type": "code",
   "execution_count": 5,
   "id": "a8b684a5-24fe-4a0a-a6a9-341a9916c82e",
   "metadata": {},
   "outputs": [
    {
     "data": {
      "text/plain": [
       "['易日:109/08/12',\n",
       " '戶日:109/08/13',\n",
       " '日期:109/08/14',\n",
       " '日期:109/08/18',\n",
       " '準日:109/08/18',\n",
       " '放日：109/09/16',\n",
       " '期間：109/07/24',\n",
       " '至109/08/18']"
      ]
     },
     "execution_count": 5,
     "metadata": {},
     "output_type": "execute_result"
    }
   ],
   "source": [
    "x = re.findall(\".{3}\\d+/\\d+/\\d+\", txt)\n",
    "x"
   ]
  },
  {
   "cell_type": "markdown",
   "id": "33257d8e-6a96-4d83-b6b3-ae7681ef5ca9",
   "metadata": {},
   "source": [
    "|||  \n",
    "|-|-|  \n",
    "|. |比對任何字元|\n",
    "|{3}| 3個. 比對任何字元|"
   ]
  },
  {
   "cell_type": "code",
   "execution_count": 6,
   "id": "a2f952e9-1f5c-4eba-a58d-1d038687949b",
   "metadata": {},
   "outputs": [
    {
     "data": {
      "text/plain": [
       "['日期:壹零捌/柒/拾伍',\n",
       " '易日:109/08/12',\n",
       " '戶日:109/08/13',\n",
       " '日期:109/08/14',\n",
       " '日期:109/08/18',\n",
       " '準日:109/08/18',\n",
       " '放日：109/09/16',\n",
       " '期間：109/07/24',\n",
       " '至109/08/18']"
      ]
     },
     "execution_count": 6,
     "metadata": {},
     "output_type": "execute_result"
    }
   ],
   "source": [
    "x = re.findall(\".{3}\\w+/\\w+/\\w{2}?\", txt)\n",
    "x"
   ]
  },
  {
   "cell_type": "markdown",
   "id": "d7d54346-dd42-4479-8683-b2d74e71ca3a",
   "metadata": {},
   "source": [
    "|||  \n",
    "|-|-|  \n",
    "|\\w | 任何的字母、數字及底線符號_|  \n",
    "|  |已被採用的字元，後續比對不會再使用到該字元|  \n",
    "| ? |比對符合0次或1次。比對最少的就停止|  "
   ]
  },
  {
   "cell_type": "markdown",
   "id": "4c7010c2-c0c0-428e-b69c-c2a6b4d6fd0f",
   "metadata": {},
   "source": [
    "## 具有特殊功能的符號\n",
    "| 符號 |                                               功能                                               |\n",
    "|:----:|:------------------------------------------------------------------------------------------------|\n",
    "|   .  | 比對任何字元，但是換行符號除外。                                                                 |\n",
    "|  \\|  | 可以比對多個規則，第一個符合為比對結果。                                                         |\n",
    "|   ?  | 比對符合0次或1次。或者代表節儉的比對，比對最少的就停止。 .*? 比對到符合的就停止，不貪婪。        |\n",
    "|   *  | 比對符合0次或多次，或者代表貪婪的比對，盡可能比對最多。 .*  代表比對所有字元，貪婪的一直找下去。 |\n",
    "|   +  | 比對符合1次或多次。                                                                              |\n",
    "|  [ ] | 自訂比對格式。如為除外的比對，左側中括號加上^。 [^123]，表示比對沒有123以外的字元。              |\n",
    "|  { } | 指定比對的次數。 {3}代表三次，{3,5}代表三到五次，逗號前後可以擇一省略。                          |\n",
    "|  ( ) | 將規則分組。   |\n",
    "|   ^  | 比對開頭符合規則的字串。在[]中代表除外，位置必須緊接在[之後。|\n",
    "|  \\$  | 比對結尾符合規則的字串。 同時使用，^與$符號，代表模式要一模一樣。|"
   ]
  },
  {
   "cell_type": "markdown",
   "id": "444df4d6-d97b-42ee-b090-faffd7278fa4",
   "metadata": {},
   "source": [
    "### 字元格式處理"
   ]
  },
  {
   "cell_type": "code",
   "execution_count": 7,
   "id": "7baf9aad-6dbf-4c74-a20c-ed646872fce5",
   "metadata": {},
   "outputs": [
    {
     "data": {
      "text/plain": [
       "['109/09/16']"
      ]
     },
     "execution_count": 7,
     "metadata": {},
     "output_type": "execute_result"
    }
   ],
   "source": [
    "words = '9.其他應敘明事項: (1)現金股利發放日：109/09/16'\n",
    "x = re.findall(\"\\(\\d\\)現金股利.*?(\\w+/\\w+/\\w+)\", words)\n",
    "x"
   ]
  },
  {
   "cell_type": "markdown",
   "id": "a27e8c84-59fd-4ed7-a404-21ecb35eeb36",
   "metadata": {},
   "source": [
    "|||  \n",
    "|-|-|  \n",
    "| \\\\( | 括弧在正規表示式中式有意義的，要使其無效，使用\\使特殊字元回復為一般字元|\n",
    "| \\.  |  比對任何字元|\n",
    "| .\\* | 比對符合0次或多次|\n",
    "|\\w |任何的字母、數字及底線符號_|\n",
    "|\\w+|所有字元並比對符合1次或多次。|\n",
    "|/|時間的分隔符號|\n",
    "|(\\w+/\\w+/\\w+)|將規則分組或指定顯示區塊|"
   ]
  },
  {
   "cell_type": "code",
   "execution_count": 8,
   "id": "1e86ce1d-6e85-49cb-84c3-7f81571e9bbb",
   "metadata": {},
   "outputs": [
    {
     "data": {
      "text/plain": [
       "['109/09/16']"
      ]
     },
     "execution_count": 8,
     "metadata": {},
     "output_type": "execute_result"
    }
   ],
   "source": [
    "words = '9.其他應敘明事項: (1)現金股利發放日：109/09/16'\n",
    "x = re.findall(\"\\d\\..*現金股利.*?(\\w+/\\w+/\\w+)\", words)\n",
    "x"
   ]
  },
  {
   "cell_type": "markdown",
   "id": "99c9c6ac-bdbf-46cd-860b-5435b355e8b1",
   "metadata": {},
   "source": [
    "|||\n",
    "|-|-|\n",
    "|\\d|0到9的數字|\n",
    "|\\\\. | 正規表示式中式有意義的，要使其無效，使用\\使特殊字元回復為一般字元|\n",
    "| \\.  |  比對任何字元|\n",
    "| .\\* | 比對符合0次或多次|\n",
    "| .\\*? | 比對符合0次或多次，比對最少的就停止|\n",
    "|\\w |任何的字母、數字及底線符號_|\n",
    "|\\w+|所有字元並比對符合1次或多次。|\n",
    "|/|時間的分隔符號|\n",
    "|(\\w+/\\w+/\\w+)|將規則分組或指定顯示區塊|"
   ]
  },
  {
   "cell_type": "code",
   "execution_count": null,
   "id": "c199a308-62c7-4471-b3ff-3026871b753b",
   "metadata": {},
   "outputs": [],
   "source": []
  },
  {
   "cell_type": "markdown",
   "id": "d6b2daaf-f203-4d58-a426-8056cd9eae57",
   "metadata": {},
   "source": [
    "## 使用sub()方法取代指定的字串"
   ]
  },
  {
   "cell_type": "code",
   "execution_count": 9,
   "id": "eb4b08a5-ea29-4242-b74f-13b077e3d135",
   "metadata": {},
   "outputs": [
    {
     "name": "stdout",
     "output_type": "stream",
     "text": [
      "first HIDE, second HIDE, third HIDE\n"
     ]
    }
   ],
   "source": [
    "import re\n",
    "nameRegex = re.compile(r'prize - \\w+')\n",
    "result = nameRegex.sub('HIDE', 'first prize - Phoebe, second prize - Vivi, third prize - Ming')\n",
    "print(result)"
   ]
  },
  {
   "cell_type": "markdown",
   "id": "ba980c90-09e0-4ba4-a733-18c133f34178",
   "metadata": {},
   "source": [
    "|||\n",
    "|-|-|\n",
    "|\\w+|表示-後的所有字元，皆以HIDE字串取代|"
   ]
  },
  {
   "cell_type": "code",
   "execution_count": 10,
   "id": "4120822a-a809-4bf7-84b6-5dee75946124",
   "metadata": {},
   "outputs": [
    {
     "name": "stdout",
     "output_type": "stream",
     "text": [
      "first P***, second V***, third M***\n"
     ]
    }
   ],
   "source": [
    "nameRegex = re.compile(r'prize - (\\w)\\w+')\n",
    "result = nameRegex.sub(r'\\1***', 'first prize - Phoebe, second prize - Vivi, third prize - Ming')\n",
    "print(result)"
   ]
  },
  {
   "cell_type": "markdown",
   "id": "c464eb2c-e860-4382-94dd-a71b341cae1a",
   "metadata": {},
   "source": [
    "|||\n",
    "|-|-|\n",
    "|\\1|表示re.search(...).group(1)，與()配合使用| "
   ]
  }
 ],
 "metadata": {
  "kernelspec": {
   "display_name": "Python 3 (ipykernel)",
   "language": "python",
   "name": "python3"
  },
  "language_info": {
   "codemirror_mode": {
    "name": "ipython",
    "version": 3
   },
   "file_extension": ".py",
   "mimetype": "text/x-python",
   "name": "python",
   "nbconvert_exporter": "python",
   "pygments_lexer": "ipython3",
   "version": "3.8.12"
  }
 },
 "nbformat": 4,
 "nbformat_minor": 5
}
